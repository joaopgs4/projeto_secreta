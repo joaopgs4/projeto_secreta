{
  "cells": [
    {
      "cell_type": "markdown",
      "metadata": {
        "id": "yrvGWQjquny6"
      },
      "source": [
        "# LÓGICA E MATEMÁTICA DISCRETA - PROJETO I\n",
        "\n",
        "**João Sarti**"
      ]
    },
    {
      "cell_type": "markdown",
      "metadata": {
        "id": "j3A7sF3Vu1Js"
      },
      "source": [
        "Nosso objetivo neste projeto será provar o funcionamento de um programa iterativo, isto é, que não usa recursão. No Projeto II, vamos provar o funcionamento deste programa, porém na versão iterativa."
      ]
    },
    {
      "cell_type": "markdown",
      "metadata": {
        "id": "aFl-hiJuvQ2m"
      },
      "source": [
        "Antes de analisarmos nosso programa iterativo, vamos aprender como usar a lógica LTL para provar propriedades de programas e verificar que eles realmente funcionam."
      ]
    },
    {
      "cell_type": "code",
      "execution_count": null,
      "metadata": {
        "id": "6_aSWWOtv8YB"
      },
      "outputs": [],
      "source": [
        "#PROGRAMA I - ATRIBUIÇÃO SIMPLES\n",
        "num=1\n",
        "assert num==1"
      ]
    },
    {
      "cell_type": "markdown",
      "metadata": {
        "id": "_RFRO3c6wQQq"
      },
      "source": [
        "Vamos escrever uma fórmula LTL para este programa:"
      ]
    },
    {
      "cell_type": "code",
      "execution_count": null,
      "metadata": {
        "id": "se18wCrZzo1C"
      },
      "outputs": [],
      "source": [
        "!pip install flloat"
      ]
    },
    {
      "cell_type": "code",
      "execution_count": null,
      "metadata": {
        "id": "bJZrlFNgwaJu"
      },
      "outputs": [],
      "source": [
        "from flloat.parser.ltlf import LTLfParser\n",
        "\n",
        "#formula - numequals1\n",
        "parser = LTLfParser()\n",
        "formula = \"F (numequals1)\"\n",
        "parsed_formula = parser(formula)\n",
        "dfa = parsed_formula.to_automaton()\n",
        "graph = dfa.to_graphviz()\n",
        "graph"
      ]
    },
    {
      "cell_type": "code",
      "execution_count": 4,
      "metadata": {
        "id": "pijMiVwv0HVh"
      },
      "outputs": [],
      "source": [
        "from pickle import TRUE\n",
        "test = [{\"numequals1\": True}]\n",
        "assert dfa.accepts(test)"
      ]
    },
    {
      "cell_type": "code",
      "execution_count": null,
      "metadata": {
        "id": "LJsCG_5Y0X4H"
      },
      "outputs": [],
      "source": [
        "from pickle import TRUE\n",
        "test = [{\"numequals1\": False}]\n",
        "assert dfa.accepts(test)"
      ]
    },
    {
      "cell_type": "code",
      "execution_count": 13,
      "metadata": {
        "id": "qYu447JK0npb"
      },
      "outputs": [],
      "source": [
        "#PROGRAMA II - ATRIBUIÇÃO SEQUENCIAL\n",
        "y=1\n",
        "z=2\n",
        "assert y==1 and z==2"
      ]
    },
    {
      "cell_type": "markdown",
      "metadata": {
        "id": "9YoDSDdr1M9j"
      },
      "source": [
        "Vamos escrever uma fórmula LTL para este programa:"
      ]
    },
    {
      "cell_type": "code",
      "execution_count": null,
      "metadata": {
        "id": "mQKxugiA1YbN"
      },
      "outputs": [],
      "source": [
        "#formula - numequals1\n",
        "parser = LTLfParser()\n",
        "formula = \"F (y & z)\"\n",
        "parsed_formula = parser(formula)\n",
        "dfa = parsed_formula.to_automaton()\n",
        "graph = dfa.to_graphviz()\n",
        "graph"
      ]
    },
    {
      "cell_type": "code",
      "execution_count": null,
      "metadata": {
        "id": "QXVC_KZ91nLV"
      },
      "outputs": [],
      "source": [
        "test = [{\"y\": False, \"z\": False}]\n",
        "assert dfa.accepts(test)"
      ]
    },
    {
      "cell_type": "markdown",
      "metadata": {
        "id": "zzYUFNgz3ACk"
      },
      "source": [
        "**EXERCÍCIO**"
      ]
    },
    {
      "cell_type": "code",
      "execution_count": null,
      "metadata": {
        "id": "O0s_TEUj2fcR"
      },
      "outputs": [],
      "source": [
        "#PROGRAMA II - ATRIBUIÇÃO SEQUENCIAL\n",
        "y=1\n",
        "if y>0:\n",
        "  z=2\n",
        "else:\n",
        "  z=3\n",
        "assert y==1 and z==2"
      ]
    },
    {
      "cell_type": "markdown",
      "metadata": {
        "id": "Sy51EtvS3LD3"
      },
      "source": [
        "**PROJETO I - DATA DE ENTREGA: 21 ABRIL 2024**"
      ]
    },
    {
      "cell_type": "markdown",
      "metadata": {
        "id": "TTupdJ5j3daS"
      },
      "source": [
        "O código abaixo calcula o máximo divisor comum entre dois positivos maiores que 1."
      ]
    },
    {
      "cell_type": "code",
      "execution_count": 20,
      "metadata": {
        "id": "K_yVCnxN3Fq4"
      },
      "outputs": [],
      "source": [
        "\n",
        "def mdc(num1, num2):\n",
        "    resto = None\n",
        "    while resto != 0:\n",
        "        resto = num1 % num2\n",
        "        num1  = num2\n",
        "        num2  = resto\n",
        "\n",
        "    return num1\n",
        "\n",
        "assert 3 == mdc(24, 9)\n",
        "assert 10 == mdc(30, 20)"
      ]
    },
    {
      "cell_type": "markdown",
      "metadata": {
        "id": "iM03Cn-_4N_l"
      },
      "source": [
        "Provar, usando a lógica LTL, que este programa realmente calcula o mdc entre dois números positivos."
      ]
    },
    {
      "cell_type": "code",
      "execution_count": 17,
      "metadata": {},
      "outputs": [
        {
          "data": {
            "text/plain": [
              "{7}"
            ]
          },
          "execution_count": 17,
          "metadata": {},
          "output_type": "execute_result"
        }
      ],
      "source": [
        "from pyModelChecking import Kripke\n",
        "from pyModelChecking.LTL import modelcheck\n",
        "\n",
        "estados = {\n",
        "    0: set(['resto_none']), #Estado inicial, resto=None\n",
        "    1: set(['resto_zero']), #Estado alvo, resto = 0 (MDC)\n",
        "    2: set(['resto_maior_zero']), #Estado que mantem o loop\n",
        "    3: set(['resto_resultado_divisao']), #Altera valor de resto\n",
        "    4: set(['num1_vira_num2']), #Altera valor de num1\n",
        "    5: set(['num2_vira_resto']), #Altera valor de num2\n",
        "    6: set([2, 'num1_divisivel_por_resto', 'num2_divisivel_por_resto']), #Segue atualizando os valores em busca do MDC\n",
        "    7: set([1, 'num1_mdc', 'mdc_divide_num1', 'num2_vira_zero', 'mdc_divide_num2', 'maior_valor']), #Encontrou o MDC e chegou no estado alvo\n",
        "}\n",
        "transicoes = [(0,2), (2, 3), (3, 4), (4, 5), (5, 6), (5, 7), (6, 2), (7, 7)]\n",
        "\n",
        "K = Kripke(R=transicoes, L=estados)\n",
        "modelcheck(K, \"A(mdc_divide_num1 & mdc_divide_num2 & maior_valor)\") #Se o MDC divide 1 e 2 e é o maior valor"
      ]
    },
    {
      "cell_type": "markdown",
      "metadata": {
        "id": "RZe3_rSr4oHJ"
      },
      "source": [
        "**DETALHES BUROCRÁTICOS DO PROJETO**\n",
        "\n",
        "\n",
        "*   O projeto pode ser feito individualmente ou em duplas\n",
        "*   O projeto deve ser entregue num notebook Python\n",
        "\n"
      ]
    },
    {
      "cell_type": "markdown",
      "metadata": {
        "id": "2RisenJx5VbE"
      },
      "source": [
        "**RUBRICA DO PROJETO**\n",
        "\n",
        "D - O PROJETO NÃO COMPILA\n",
        "\n",
        "C - O PROJETO COMPILA, MAS AS FÓRMULAS ESTÃO TOTALMENTE ERRADAS\n",
        "\n",
        "B - O PROJETO COMPILA, MAS AS FÓRMULAS ESTÃO PARCIALMENTE ERRADAS\n",
        "\n",
        "A - O PROJETO COMPILA, AS FÓRMULAS ESTÃO TODAS CORRETAS E PROVANDO QUE O PROGRAMA FUNCIONA\n",
        "\n",
        "A+ - MESMO QUE O NÍVEL A, PORÉM COM DESCRIÇÃO DE TODOS OS PASSOS REALIZADOS"
      ]
    }
  ],
  "metadata": {
    "colab": {
      "provenance": []
    },
    "kernelspec": {
      "display_name": "Python 3",
      "name": "python3"
    },
    "language_info": {
      "codemirror_mode": {
        "name": "ipython",
        "version": 3
      },
      "file_extension": ".py",
      "mimetype": "text/x-python",
      "name": "python",
      "nbconvert_exporter": "python",
      "pygments_lexer": "ipython3",
      "version": "3.11.6"
    }
  },
  "nbformat": 4,
  "nbformat_minor": 0
}
